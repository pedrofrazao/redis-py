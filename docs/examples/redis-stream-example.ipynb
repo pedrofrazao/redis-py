{
 "cells": [
  {
   "cell_type": "markdown",
   "metadata": {},
   "source": [
    "# Redis Stream Examples"
   ]
  },
  {
   "cell_type": "markdown",
   "metadata": {},
   "source": [
    "## basic config"
   ]
  },
  {
   "cell_type": "code",
   "execution_count": 1,
   "metadata": {},
   "outputs": [],
   "source": [
    "redis_host = \"redis\"\n",
    "stream_key = \"skey\"\n",
    "stream2_key = \"s2key\""
   ]
  },
  {
   "cell_type": "markdown",
   "metadata": {},
   "source": [
    "## connection"
   ]
  },
  {
   "cell_type": "code",
   "execution_count": 2,
   "metadata": {},
   "outputs": [
    {
     "data": {
      "text/plain": [
       "True"
      ]
     },
     "execution_count": 2,
     "metadata": {},
     "output_type": "execute_result"
    }
   ],
   "source": [
    "import redis\n",
    "from time import time\n",
    "\n",
    "r = redis.Redis( redis_host )\n",
    "r.ping()"
   ]
  },
  {
   "cell_type": "markdown",
   "metadata": {},
   "source": [
    "## xadd and xread"
   ]
  },
  {
   "cell_type": "markdown",
   "metadata": {},
   "source": [
    "### add some data to the stream"
   ]
  },
  {
   "cell_type": "code",
   "execution_count": 3,
   "metadata": {},
   "outputs": [
    {
     "name": "stdout",
     "output_type": "stream",
     "text": [
      "stream length: 10\n"
     ]
    }
   ],
   "source": [
    "for i in range(0,10):\n",
    "    r.xadd( stream_key, { 'ts': time(), 'v': i } )\n",
    "print( f\"stream length: {r.xlen( stream_key )}\")"
   ]
  },
  {
   "cell_type": "markdown",
   "metadata": {},
   "source": [
    "### read some data from the stream"
   ]
  },
  {
   "cell_type": "code",
   "execution_count": 4,
   "metadata": {},
   "outputs": [
    {
     "name": "stdout",
     "output_type": "stream",
     "text": [
      "[[b'skey', [(b'1655660943841-0', {b'ts': b'1655660943.8354728', b'v': b'0'}), (b'1655660943843-0', {b'ts': b'1655660943.8435743', b'v': b'1'})]]]\n"
     ]
    }
   ],
   "source": [
    "## read 2 entries from stream_key\n",
    "l = r.xread( count=2, streams={stream_key:0} )\n",
    "print(l)"
   ]
  },
  {
   "cell_type": "markdown",
   "metadata": {},
   "source": [
    "### extract data from the returned structure"
   ]
  },
  {
   "cell_type": "code",
   "execution_count": 5,
   "metadata": {},
   "outputs": [
    {
     "name": "stdout",
     "output_type": "stream",
     "text": [
      "got data from stream: b'skey'\n",
      "id: b'1655660943841-0' value: b'0'\n",
      "id: b'1655660943843-0' value: b'1'\n"
     ]
    }
   ],
   "source": [
    "first_stream = l[0]\n",
    "print( f\"got data from stream: {first_stream[0]}\")\n",
    "fs_data = first_stream[1]\n",
    "for id, value in fs_data:\n",
    "    print( f\"id: {id} value: {value[b'v']}\")"
   ]
  },
  {
   "cell_type": "markdown",
   "metadata": {},
   "source": [
    "### read more data from the stream\n",
    "if we call the `xread` with the same arguments we will get the same data"
   ]
  },
  {
   "cell_type": "code",
   "execution_count": 6,
   "metadata": {},
   "outputs": [
    {
     "name": "stdout",
     "output_type": "stream",
     "text": [
      "id: b'1655660943841-0' value: b'0'\n",
      "id: b'1655660943843-0' value: b'1'\n"
     ]
    }
   ],
   "source": [
    "l = r.xread( count=2, streams={stream_key:0} )\n",
    "for id, value in l[0][1]:\n",
    "    print( f\"id: {id} value: {value[b'v']}\")"
   ]
  },
  {
   "cell_type": "markdown",
   "metadata": {},
   "source": [
    "to get new data we need to change the key passed to the call"
   ]
  },
  {
   "cell_type": "code",
   "execution_count": 7,
   "metadata": {},
   "outputs": [
    {
     "name": "stdout",
     "output_type": "stream",
     "text": [
      "id: b'1655660943844-0' value: b'2'\n",
      "id: b'1655660943844-1' value: b'3'\n"
     ]
    }
   ],
   "source": [
    "last_id_returned = l[0][1][-1][0]\n",
    "l = r.xread( count=2, streams={stream_key: last_id_returned} )\n",
    "for id, value in l[0][1]:\n",
    "    print( f\"id: {id} value: {value[b'v']}\")"
   ]
  },
  {
   "cell_type": "code",
   "execution_count": 8,
   "metadata": {},
   "outputs": [
    {
     "name": "stdout",
     "output_type": "stream",
     "text": [
      "id: b'1655660943845-0' value: b'4'\n",
      "id: b'1655660943845-1' value: b'5'\n"
     ]
    }
   ],
   "source": [
    "last_id_returned = l[0][1][-1][0]\n",
    "l = r.xread( count=2, streams={stream_key: last_id_returned} )\n",
    "for id, value in l[0][1]:\n",
    "    print( f\"id: {id} value: {value[b'v']}\")"
   ]
  },
  {
   "cell_type": "markdown",
   "metadata": {},
   "source": [
    "to get only newer entries"
   ]
  },
  {
   "cell_type": "code",
   "execution_count": 9,
   "metadata": {},
   "outputs": [
    {
     "name": "stdout",
     "output_type": "stream",
     "text": [
      "stream length: 10\n",
      "after 5s block, got an empty list [], no *new* messages on the stream\n",
      "stream length: 10\n"
     ]
    }
   ],
   "source": [
    "print( f\"stream length: {r.xlen( stream_key )}\")\n",
    "# wait for 5s for new messages\n",
    "l = r.xread( count=1, block=5000, streams={stream_key: '$'} )\n",
    "print( f\"after 5s block, got an empty list {l}, no *new* messages on the stream\")\n",
    "print( f\"stream length: {r.xlen( stream_key )}\")"
   ]
  },
  {
   "cell_type": "markdown",
   "metadata": {},
   "source": [
    "### 2nd stream\n",
    "Add some messages to a 2nd stream"
   ]
  },
  {
   "cell_type": "code",
   "execution_count": 10,
   "metadata": {},
   "outputs": [
    {
     "name": "stdout",
     "output_type": "stream",
     "text": [
      "stream length: 10\n"
     ]
    }
   ],
   "source": [
    "for i in range(1000,1010):\n",
    "    r.xadd( stream2_key, { 'v': i } )\n",
    "print( f\"stream length: {r.xlen( stream2_key )}\")"
   ]
  },
  {
   "cell_type": "markdown",
   "metadata": {},
   "source": [
    "get messages from the 2 streams"
   ]
  },
  {
   "cell_type": "code",
   "execution_count": 11,
   "metadata": {},
   "outputs": [
    {
     "name": "stdout",
     "output_type": "stream",
     "text": [
      "got from b'skey' the entry [(b'1655660943841-0', {b'ts': b'1655660943.8354728', b'v': b'0'})]\n",
      "got from b's2key' the entry [(b'1655660973919-0', {b'v': b'1000'})]\n"
     ]
    }
   ],
   "source": [
    "l = r.xread( count=1, streams={stream_key:0,stream2_key:0} )\n",
    "for k,d in l:\n",
    "    print(f\"got from {k} the entry {d}\")"
   ]
  },
  {
   "cell_type": "code",
   "execution_count": null,
   "metadata": {},
   "outputs": [],
   "source": []
  }
 ],
 "metadata": {
  "kernelspec": {
   "display_name": "Python 3",
   "language": "python",
   "name": "python3"
  },
  "language_info": {
   "codemirror_mode": {
    "name": "ipython",
    "version": 3
   },
   "file_extension": ".py",
   "mimetype": "text/x-python",
   "name": "python",
   "nbconvert_exporter": "python",
   "pygments_lexer": "ipython3",
   "version": "3.8.10"
  }
 },
 "nbformat": 4,
 "nbformat_minor": 4
}
