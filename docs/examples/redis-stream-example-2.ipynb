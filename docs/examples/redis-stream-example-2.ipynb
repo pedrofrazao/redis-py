{
 "cells": [
  {
   "cell_type": "markdown",
   "metadata": {},
   "source": [
    "# Redis Stream Examples 2"
   ]
  },
  {
   "cell_type": "markdown",
   "metadata": {},
   "source": [
    "## basic config"
   ]
  },
  {
   "cell_type": "code",
   "execution_count": 1,
   "metadata": {},
   "outputs": [],
   "source": [
    "redis_host = \"redis\"\n",
    "stream_key = \"skey\"\n",
    "stream2_key = \"s2key\"\n",
    "group1 = \"grp1\"\n",
    "group2 = \"grp2\""
   ]
  },
  {
   "cell_type": "markdown",
   "metadata": {},
   "source": [
    "## connection"
   ]
  },
  {
   "cell_type": "code",
   "execution_count": 2,
   "metadata": {},
   "outputs": [
    {
     "data": {
      "text/plain": [
       "True"
      ]
     },
     "execution_count": 2,
     "metadata": {},
     "output_type": "execute_result"
    }
   ],
   "source": [
    "import redis\n",
    "from time import time\n",
    "from redis.exceptions import ConnectionError, DataError, NoScriptError, RedisError, ResponseError\n",
    "\n",
    "r = redis.Redis( redis_host )\n",
    "r.ping()"
   ]
  },
  {
   "cell_type": "markdown",
   "metadata": {},
   "source": [
    "## groups\n",
    "With the groups is possible track, for many consumers, and at the Redis side, which message have been already consumed."
   ]
  },
  {
   "cell_type": "markdown",
   "metadata": {},
   "source": [
    "### add some data to streams\n",
    "Creating 2 streams with 10 messages each."
   ]
  },
  {
   "cell_type": "code",
   "execution_count": 3,
   "metadata": {},
   "outputs": [
    {
     "name": "stdout",
     "output_type": "stream",
     "text": [
      "stream 'skey' length: 10\n",
      "stream 's2key' length: 10\n"
     ]
    }
   ],
   "source": [
    "def add_some_data_to_stream( sname, key_range ):\n",
    "    for i in key_range:\n",
    "        r.xadd( sname, { 'ts': time(), 'v': i } )\n",
    "    print( f\"stream '{sname}' length: {r.xlen( stream_key )}\")\n",
    "\n",
    "add_some_data_to_stream( stream_key, range(0,10) )\n",
    "add_some_data_to_stream( stream2_key, range(1000,1010) )"
   ]
  },
  {
   "cell_type": "markdown",
   "metadata": {},
   "source": [
    "### use a group to read from the stream\n",
    "* create a group `grp1` with the stream `skey`, and\n",
    "* create a group `grp2` with the streams `skey and `s2key`\n",
    "\n",
    "Use the `xinfo_group` to verify the result of the group creation."
   ]
  },
  {
   "cell_type": "code",
   "execution_count": 4,
   "metadata": {},
   "outputs": [
    {
     "name": "stdout",
     "output_type": "stream",
     "text": [
      "skey -> group name: b'grp1' with 0 consumers and b'0-0' as last read id\n",
      "skey -> group name: b'grp2' with 0 consumers and b'0-0' as last read id\n",
      "s2key -> group name: b'grp2' with 0 consumers and b'0-0' as last read id\n"
     ]
    }
   ],
   "source": [
    "## create the group\n",
    "def create_group( skey, gname ):\n",
    "    try:\n",
    "        r.xgroup_create( name=skey, groupname=gname, id=0 )\n",
    "    except ResponseError as e:\n",
    "        print(f\"raised: {e}\")\n",
    "\n",
    "# group1 read the stream 'skey'\n",
    "create_group( stream_key, group1 )\n",
    "# group2 read the streams 'skey' and 's2key'\n",
    "create_group( stream_key, group2 )\n",
    "create_group( stream2_key, group2 )\n",
    "\n",
    "def group_info( skey ):\n",
    "    res = r.xinfo_groups( name=skey )\n",
    "    for i in res:\n",
    "        print( f\"{skey} -> group name: {i['name']} with {i['consumers']} consumers and {i['last-delivered-id']}\"\n",
    "              + f\" as last read id\")\n",
    "    \n",
    "group_info( stream_key )\n",
    "group_info( stream2_key )"
   ]
  },
  {
   "cell_type": "markdown",
   "metadata": {},
   "source": [
    "### group read\n",
    "The `xreadgroup` method permit to read from a stream group."
   ]
  },
  {
   "cell_type": "code",
   "execution_count": 5,
   "metadata": {},
   "outputs": [],
   "source": [
    "def print_xreadgroup_reply( reply, group = None, run = None):\n",
    "    for d_stream in reply:\n",
    "        for element in d_stream[1]:\n",
    "            print(  f\"got element {element[0]}\"\n",
    "                  + f\"from stream {d_stream[0]}\" )\n",
    "            if run is not None:\n",
    "                run( d_stream[0], group, element[0] )"
   ]
  },
  {
   "cell_type": "code",
   "execution_count": 6,
   "metadata": {},
   "outputs": [
    {
     "name": "stdout",
     "output_type": "stream",
     "text": [
      "got element b'1657478839634-0'from stream b'skey'\n",
      "got element b'1657478839635-0'from stream b'skey'\n"
     ]
    }
   ],
   "source": [
    "# read some messages on group1 with consumer 'c' \n",
    "d = r.xreadgroup( groupname=group1, consumername='c', block=10,\n",
    "                  count=2, streams={stream_key:'>'})\n",
    "print_xreadgroup_reply( d )"
   ]
  },
  {
   "cell_type": "markdown",
   "metadata": {},
   "source": [
    "A **2nd consumer** for the same stream group will get not delivered messages."
   ]
  },
  {
   "cell_type": "code",
   "execution_count": 7,
   "metadata": {},
   "outputs": [
    {
     "name": "stdout",
     "output_type": "stream",
     "text": [
      "got element b'1657478839635-1'from stream b'skey'\n",
      "got element b'1657478839636-0'from stream b'skey'\n"
     ]
    }
   ],
   "source": [
    "# read some messages on group1 with consumer 'c' \n",
    "d = r.xreadgroup( groupname=group1, consumername='c2', block=10,\n",
    "                  count=2, streams={stream_key:'>'})\n",
    "print_xreadgroup_reply( d )"
   ]
  },
  {
   "cell_type": "markdown",
   "metadata": {},
   "source": [
    "But a **2nd stream group** can read the already delivered messages again.\n",
    "\n",
    "Note that the 2nd stream group include also the 2nd stream.\n",
    "That can be identified in the reply (1st element of the reply list)."
   ]
  },
  {
   "cell_type": "code",
   "execution_count": 8,
   "metadata": {},
   "outputs": [
    {
     "name": "stdout",
     "output_type": "stream",
     "text": [
      "got element b'1657478839634-0'from stream b'skey'\n",
      "got element b'1657478839635-0'from stream b'skey'\n",
      "got element b'1657478839639-0'from stream b's2key'\n",
      "got element b'1657478839640-0'from stream b's2key'\n"
     ]
    }
   ],
   "source": [
    "d2 = r.xreadgroup( groupname=group2, consumername='c', block=10,\n",
    "                   count=2, streams={stream_key:'>',stream2_key:'>'})\n",
    "print_xreadgroup_reply( d2 )"
   ]
  },
  {
   "cell_type": "markdown",
   "metadata": {},
   "source": [
    "To check for pending messages (delivered messages without acknowledgment) we can use the `xpending`."
   ]
  },
  {
   "cell_type": "code",
   "execution_count": 9,
   "metadata": {},
   "outputs": [
    {
     "name": "stdout",
     "output_type": "stream",
     "text": [
      "4 pending messages on 'skey' for group 'grp1'\n",
      "2 pending messages on 'skey' for group 'grp2'\n",
      "2 pending messages on 's2key' for group 'grp2'\n"
     ]
    }
   ],
   "source": [
    "# check pending status (read messages without a ack)\n",
    "def print_pending_info( key_group ):\n",
    "    for s,k in key_group:\n",
    "        pr = r.xpending( name=s, groupname=k )\n",
    "        print( f\"{pr.get('pending')} pending messages on '{s}' for group '{k}'\" )\n",
    "    \n",
    "print_pending_info( ((stream_key,group1),(stream_key,group2),(stream2_key,group2)) )"
   ]
  },
  {
   "cell_type": "markdown",
   "metadata": {},
   "source": [
    "## ack\n",
    "Acknowledge some messages with `xack`."
   ]
  },
  {
   "cell_type": "code",
   "execution_count": 10,
   "metadata": {},
   "outputs": [
    {
     "name": "stdout",
     "output_type": "stream",
     "text": [
      "got element b'1657478839635-1'from stream b'skey'\n",
      "got element b'1657478839636-0'from stream b'skey'\n"
     ]
    }
   ],
   "source": [
    "# do acknowledges for group1\n",
    "toack = lambda k,g,e: r.xack( k,g, e )\n",
    "print_xreadgroup_reply( d, group=group1, run=toack )"
   ]
  },
  {
   "cell_type": "code",
   "execution_count": 11,
   "metadata": {},
   "outputs": [
    {
     "name": "stdout",
     "output_type": "stream",
     "text": [
      "2 pending messages on 'skey' for group 'grp1'\n",
      "2 pending messages on 'skey' for group 'grp2'\n",
      "2 pending messages on 's2key' for group 'grp2'\n"
     ]
    }
   ],
   "source": [
    "# check pending again\n",
    "print_pending_info( ((stream_key,group1),(stream_key,group2),(stream2_key,group2)) )"
   ]
  },
  {
   "cell_type": "markdown",
   "metadata": {},
   "source": [
    "ack all messages on the `group1`."
   ]
  },
  {
   "cell_type": "code",
   "execution_count": 12,
   "metadata": {},
   "outputs": [
    {
     "name": "stdout",
     "output_type": "stream",
     "text": [
      "got element b'1657478839636-1'from stream b'skey'\n",
      "got element b'1657478839636-2'from stream b'skey'\n",
      "got element b'1657478839637-0'from stream b'skey'\n",
      "got element b'1657478839637-1'from stream b'skey'\n",
      "got element b'1657478839637-2'from stream b'skey'\n",
      "got element b'1657478839638-0'from stream b'skey'\n",
      "2 pending messages on 'skey' for group 'grp1'\n"
     ]
    }
   ],
   "source": [
    "d = r.xreadgroup( groupname=group1, consumername='c', block=10,\n",
    "                      count=100, streams={stream_key:'>'})\n",
    "print_xreadgroup_reply( d, group=group1, run=toack)\n",
    "print_pending_info( ((stream_key,group1),) )"
   ]
  },
  {
   "cell_type": "markdown",
   "metadata": {},
   "source": [
    "But stream length will be the same after the `xack` of all messages on the `group1`."
   ]
  },
  {
   "cell_type": "code",
   "execution_count": 13,
   "metadata": {},
   "outputs": [
    {
     "data": {
      "text/plain": [
       "10"
      ]
     },
     "execution_count": 13,
     "metadata": {},
     "output_type": "execute_result"
    }
   ],
   "source": [
    "r.xlen(stream_key)"
   ]
  },
  {
   "cell_type": "markdown",
   "metadata": {},
   "source": [
    "### delete all\n",
    "To remove the messages with need to remote them explicitly with `xdel`."
   ]
  },
  {
   "cell_type": "code",
   "execution_count": 14,
   "metadata": {},
   "outputs": [],
   "source": [
    "s1 = r.xread( streams={stream_key:0} )\n",
    "for streams in s1:\n",
    "    stream_name, messages = streams\n",
    "    # del all ids from the message list\n",
    "    [ r.xdel( stream_name, i[0] ) for i in messages ]"
   ]
  },
  {
   "cell_type": "markdown",
   "metadata": {},
   "source": [
    "stream length"
   ]
  },
  {
   "cell_type": "code",
   "execution_count": 15,
   "metadata": {},
   "outputs": [
    {
     "data": {
      "text/plain": [
       "0"
      ]
     },
     "execution_count": 15,
     "metadata": {},
     "output_type": "execute_result"
    }
   ],
   "source": [
    "r.xlen(stream_key)"
   ]
  },
  {
   "cell_type": "markdown",
   "metadata": {},
   "source": [
    "But with the `xdel` the 2nd group can read any not processed message from the `skey`."
   ]
  },
  {
   "cell_type": "code",
   "execution_count": 16,
   "metadata": {},
   "outputs": [
    {
     "name": "stdout",
     "output_type": "stream",
     "text": [
      "got element b'1657478839640-1'from stream b's2key'\n",
      "got element b'1657478839641-0'from stream b's2key'\n"
     ]
    }
   ],
   "source": [
    "d2 = r.xreadgroup( groupname=group2, consumername='c', block=10,\n",
    "                   count=2, streams={stream_key:'>',stream2_key:'>'})\n",
    "print_xreadgroup_reply( d2 )"
   ]
  },
  {
   "cell_type": "code",
   "execution_count": null,
   "metadata": {},
   "outputs": [],
   "source": []
  }
 ],
 "metadata": {
  "kernelspec": {
   "display_name": "Python 3",
   "language": "python",
   "name": "python3"
  },
  "language_info": {
   "codemirror_mode": {
    "name": "ipython",
    "version": 3
   },
   "file_extension": ".py",
   "mimetype": "text/x-python",
   "name": "python",
   "nbconvert_exporter": "python",
   "pygments_lexer": "ipython3",
   "version": "3.8.10"
  }
 },
 "nbformat": 4,
 "nbformat_minor": 4
}
